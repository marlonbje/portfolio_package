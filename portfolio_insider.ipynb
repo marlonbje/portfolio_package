{
 "cells": [
  {
   "metadata": {
    "trusted": false
   },
   "cell_type": "code",
   "source": "import requests\nimport pandas as pd\nimport pandas_ta as ta\nimport seaborn as sns\nimport matplotlib.pyplot as plt\nimport time\nimport os\n\n\nclass portfolio_insider():\n    def __init__(self, atr_length=50):\n        self.api_key = 'YOUR-API-KEY' #https://www.alphavantage.co/\n        self.filename = input('Stock-List Name? ')\n        \n        self.returns_df = pd.DataFrame()\n        self.atr_sma_df = pd.DataFrame()\n\n        with open(self.filename, 'r') as file:\n            self.stocks = [line.strip() for line in file.readlines()]\n\n        print(f'This may take up to {len(self.stocks) * 12 + 3}s.\\n')\n\n        for symbol in self.stocks:\n            print(f\"Requesting data for {symbol}...\")\n            url = (\n                f'https://www.alphavantage.co/query?function=TIME_SERIES_DAILY'\n                f'&symbol={symbol}&outputsize=full&apikey={self.api_key}'\n            )\n\n            response = requests.get(url)\n            data = response.json()\n\n            if \"Note\" in data:\n                print(f\"⚠️ API limit reached: {data['Note']}\")\n                return\n\n            if \"Time Series (Daily)\" not in data:\n                print(f\"❌ Error at {symbol}: {data}\")\n                continue\n\n            ts_data = data[\"Time Series (Daily)\"]\n            df = pd.DataFrame.from_dict(ts_data, orient='index')\n            df.index = pd.to_datetime(df.index)\n            df = df.rename(columns={\n                '1. open': 'Open',\n                '2. high': 'High',\n                '3. low': 'Low',\n                '4. close': 'Close'\n            })\n\n            try:\n                df = df[['Open', 'High', 'Low', 'Close']].astype(float).sort_index()\n            except Exception as e:\n                print(f\"⚠️ Error converting {symbol} data: {e}\")\n                continue\n\n            returns = df['Close'].pct_change().dropna()\n            if self.returns_df.empty:\n                self.returns_df = returns.to_frame(name=symbol)\n            else:\n                self.returns_df = self.returns_df.join(returns.to_frame(name=symbol), how='inner')\n\n            atr = ta.atr(high=df['High'], low=df['Low'], close=df['Close'], length=atr_length)\n            atr_sma = atr.rolling(window=atr_length).mean()\n\n            self.atr_sma_df[symbol] = atr_sma\n\n            time.sleep(12)\n\n    def get_correlations(self):\n        if self.returns_df.empty:\n            print(\"❌ No return data available.\")\n            return\n\n        corr = self.returns_df.corr()\n        sns.heatmap(corr, cbar=True, cmap='coolwarm', annot=True)\n        plt.title(\"Correlation Matrix\")\n        plt.tight_layout()\n        plt.show()\n\n    def get_atr(self):\n        try:\n            atr_length = int(input('ATR smoothing length (e.g. 14)? '))\n            if atr_length < 1:\n                raise ValueError\n        except ValueError:\n            print(\"Invalid input. Must be an integer >= 1.\")\n            return\n\n        if self.atr_sma_df.empty:\n            print(\"❌ No ATR data available.\")\n            return\n\n        for symbol in self.atr_sma_df.columns:\n            plt.plot(self.atr_sma_df[symbol], label=symbol, linewidth=0.8, alpha=0.7)\n\n        mean_atr = self.atr_sma_df.mean(axis=1)\n        plt.plot(mean_atr, label='Mean ATR', linewidth=1.5, color='red')\n\n        plt.title(f'Smoothed ATR ({atr_length}d)')\n        plt.xlabel('Date')\n        plt.ylabel('ATR')\n        plt.legend()\n        plt.grid(True, alpha=0.2)\n        plt.tight_layout()\n        plt.show()\n        \nclient_1 = portfolio_insider()\nclient_1.get_correlations()\nclient_1.get_atr()      ",
   "execution_count": null,
   "outputs": []
  }
 ],
 "metadata": {
  "kernelspec": {
   "name": "python3",
   "display_name": "Python 3",
   "language": "python"
  },
  "language_info": {
   "name": "python",
   "version": "3.10.4",
   "mimetype": "text/x-python",
   "codemirror_mode": {
    "name": "ipython",
    "version": 3
   },
   "pygments_lexer": "ipython3",
   "nbconvert_exporter": "python",
   "file_extension": ".py"
  }
 },
 "nbformat": 4,
 "nbformat_minor": 2
}