{
 "cells": [
  {
   "metadata": {
    "trusted": false
   },
   "cell_type": "code",
   "source": "import os\nimport re\n\nclass portfolio_manager():\n    def __init__(self):\n        self.filename = input('Filename? ').strip()\n        if not os.path.exists(self.filename):\n            open(self.filename, 'w').close()\n\n    def get_action(self):\n        actions = ['a', 'd', 't', 's', 'e']\n        while True:\n            action = input('\\nAppend(a) | Delete(d) | Truncate(t) | Show(s) | End(e) ').lower().strip()\n            if action in actions:\n                return action\n            print('Invalid action.')\n\n    def load_stocks(self):\n        with open(self.filename, 'r') as file:\n            return [line.strip().upper() for line in file.readlines()]\n\n    def save_stocks(self, stocks):\n        with open(self.filename, 'w') as file:\n            for stock in sorted(stocks):\n                file.write(stock + '\\n')\n\n    def validate_stock(self, stock):\n        # Simple validation: 1-5 alphanumeric uppercase chars\n        return bool(re.match(r'^[A-Z0-9]{1,5}$', stock))\n\n    def manage_stocks(self):\n        while True:\n            action = self.get_action()\n            stocks = set(self.load_stocks())\n\n            if action == 'a':\n                stock = input('Ticker Symbol? ').strip().upper()\n                if not self.validate_stock(stock):\n                    print('Invalid ticker symbol format.')\n                    continue\n                if stock in stocks:\n                    print(f'{stock} already exists.')\n                else:\n                    stocks.add(stock)\n                    self.save_stocks(stocks)\n                    print(f'{stock} added.')\n\n            elif action == 'd':\n                stock = input('Ticker Symbol? ').strip().upper()\n                if stock not in stocks:\n                    print(f'{stock} doesn’t exist in {self.filename}.')\n                else:\n                    stocks.remove(stock)\n                    self.save_stocks(stocks)\n                    print(f'{stock} deleted.')\n\n            elif action == 't':\n                confirm = input(f'Are you sure you want to clear {self.filename}? (y/n): ').lower()\n                if confirm == 'y':\n                    open(self.filename, 'w').close()\n                    print(\"List emptied.\")\n                else:\n                    print(\"Aborted truncation.\")\n\n            elif action == 's':\n                if not stocks:\n                    print(f'{self.filename} is empty.')\n                else:\n                    print(f\"Stocks in {self.filename}:\")\n                    for stock in sorted(stocks):\n                        print(stock)\n\n            elif action == 'e':\n                print(\"Exiting portfolio manager.\")\n                break\n\n\nif __name__ == '__main__':\n    user = portfolio_manager()\n    user.manage_stocks()",
   "execution_count": null,
   "outputs": []
  }
 ],
 "metadata": {
  "kernelspec": {
   "name": "python3",
   "display_name": "Python 3",
   "language": "python"
  },
  "language_info": {
   "name": "python",
   "version": "3.10.4",
   "mimetype": "text/x-python",
   "codemirror_mode": {
    "name": "ipython",
    "version": 3
   },
   "pygments_lexer": "ipython3",
   "nbconvert_exporter": "python",
   "file_extension": ".py"
  }
 },
 "nbformat": 4,
 "nbformat_minor": 2
}