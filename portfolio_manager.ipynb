{
 "cells": [
  {
   "metadata": {
    "trusted": false
   },
   "cell_type": "code",
   "source": "import os\n\n\nclass portfolio_manager():        \n    def manage_stocks(self):\n        self.filename = input('Stock-List Name? ')\n        if not os.path.exists(self.filename):\n            open(self.filename, 'w').close()\n        while True:\n            self.action = input('\\nAppend(a) | Delete(d) | Truncate(t) | Show(s) | End(e) ').lower().strip()\n            while self.action not in ['a', 'd', 't', 's', 'e']:\n                print('Invalid action.')\n                self.action = input('\\nAppend(a) | Delete(d) | Truncate(t) | Show(s) | End(e) ').lower().strip()\n\n            if self.action == 'a':\n                with open(self.filename, 'r') as file:\n                    existing = file.readlines()\n                with open(self.filename, 'a') as file:\n                    stock = input('Ticker Symbol? ').strip().upper()\n                    if stock + '\\n' not in existing:\n                        file.writelines(stock + '\\n')\n                        print(f'{stock} added.')\n                    else:\n                        print(f'{stock} already exists.')\n\n            elif self.action == 'd':\n                with open(self.filename, 'r') as file:\n                    content = file.readlines()\n                stock = input('Ticker Symbol? ').strip().upper()\n                new_content = [line for line in content if line.strip() != stock]\n                with open(self.filename, 'w') as file:\n                    file.writelines(new_content)\n                if stock not in [stock.strip() for stock in content]:\n                    print(f'Ticker doesn’t exist in {self.filename}.')\n                else:\n                    print(f'{stock} deleted.')\n\n            elif self.action == 't':\n                open(self.filename, 'w').close()\n                print(\"List emptied.\")\n\n            elif self.action == 's':\n                with open(self.filename, 'r') as file:\n                    rocontent = file.read()\n                    if rocontent.strip() == '':\n                        print(f'{self.filename} is empty.')\n                    else:\n                        with open(self.filename,'r') as file:\n                            content = file.readlines()\n                            for stock in content:\n                                print(stock.strip())\n\n            elif self.action == 'e':\n                break\n                \nuser = portfolio_manager()\nuser.manage_stocks()",
   "execution_count": null,
   "outputs": []
  }
 ],
 "metadata": {
  "kernelspec": {
   "name": "python3",
   "display_name": "Python 3",
   "language": "python"
  },
  "language_info": {
   "name": "python",
   "version": "3.10.4",
   "mimetype": "text/x-python",
   "codemirror_mode": {
    "name": "ipython",
    "version": 3
   },
   "pygments_lexer": "ipython3",
   "nbconvert_exporter": "python",
   "file_extension": ".py"
  }
 },
 "nbformat": 4,
 "nbformat_minor": 2
}
